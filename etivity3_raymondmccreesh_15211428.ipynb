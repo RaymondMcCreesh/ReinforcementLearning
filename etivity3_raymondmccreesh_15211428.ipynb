{
  "cells": [
    {
      "cell_type": "markdown",
      "source": [
        "Name: Raymond Mc Creesh\n",
        "\n",
        "Student ID : 15211428"
      ],
      "metadata": {
        "id": "xabkl-c_NOf0"
      },
      "id": "xabkl-c_NOf0"
    },
    {
      "cell_type": "code",
      "execution_count": 1,
      "id": "f42f3dbd",
      "metadata": {
        "colab": {
          "base_uri": "https://localhost:8080/",
          "height": 297
        },
        "id": "f42f3dbd",
        "outputId": "cdbe56bf-6562-4f26-8596-e475a4acc84f"
      },
      "outputs": [
        {
          "output_type": "execute_result",
          "data": {
            "text/plain": [
              "Text(0.5, 0, 'Episodes')"
            ]
          },
          "metadata": {},
          "execution_count": 1
        },
        {
          "output_type": "display_data",
          "data": {
            "text/plain": [
              "<Figure size 432x288 with 1 Axes>"
            ],
            "image/png": "[encoded data removed]"
          },
          "metadata": {
            "needs_background": "light"
          }
        }
      ],
      "source": [
        "import numpy as np\n",
        "import matplotlib.pyplot as plt\n",
        "\n",
        "# Define the gridworld environment\n",
        "WORLD_HEIGHT = 4\n",
        "WORLD_WIDTH = 12\n",
        "START_STATE = (0, 0)\n",
        "GOAL_STATE = (0, 11)\n",
        "CLIFF_STATES = [(0, i) for i in range(0, 11)]\n",
        "ACTIONS = ['up', 'down', 'left', 'right']\n",
        "EPSILON = 0.1\n",
        "ALPHA = 0.5\n",
        "GAMMA = 1.0\n",
        "EPISODES = 500\n",
        "\n",
        "\n",
        "# Define the Sarsa algorithm\n",
        "def sarsa(Q):\n",
        "    state = START_STATE\n",
        "    # Choose the action to take in the current state, using an epsilon-greedy policy\n",
        "    if np.random.uniform() < EPSILON:\n",
        "        # choose a random action\n",
        "        action = np.random.choice(ACTIONS)\n",
        "    else:\n",
        "        # choose action with highest Q values for current state\n",
        "        values = Q[state[0], state[1], :]\n",
        "        action = ACTIONS[np.argmax(values)]\n",
        "    sarsa_reward = 0\n",
        "    while state != GOAL_STATE:\n",
        "        # choose next action, watch result  and reward\n",
        "        next_state, reward = step(state, action)\n",
        "        if np.random.uniform() < EPSILON:\n",
        "            next_action = np.random.choice(ACTIONS)\n",
        "        else:\n",
        "            values = Q[next_state[0], next_state[1], :]\n",
        "            next_action = ACTIONS[np.argmax(values)]\n",
        "        # Update the Q-value for the current SA using the SARSA update rule\n",
        "        Q[state[0], state[1], ACTIONS.index(action)] += ALPHA * \\\n",
        "            (reward + GAMMA * Q[next_state[0], next_state[1], ACTIONS.index(next_action)] - \\\n",
        "             Q[state[0], state[1], ACTIONS.index(action)])\n",
        "        # update current state and action\n",
        "        state = next_state\n",
        "        action = next_action\n",
        "        sarsa_reward += reward\n",
        "        if state == GOAL_STATE:\n",
        "            break\n",
        "    return sarsa_reward\n",
        "\n",
        "\n",
        "# Define the step function\n",
        "def step(state, action):\n",
        "    i, j = state\n",
        "    if action == 'up':\n",
        "        next_state = max(i - 1, 0), j\n",
        "    elif action == 'down':\n",
        "        next_state = min(i + 1, WORLD_HEIGHT - 1), j\n",
        "    elif action == 'left':\n",
        "        next_state = i, max(j - 1, 0)\n",
        "    elif action == 'right':\n",
        "        next_state = i, min(j + 1, WORLD_WIDTH - 1)\n",
        "    if next_state in CLIFF_STATES:\n",
        "        reward = -100\n",
        "        next_state = START_STATE\n",
        "    elif next_state == GOAL_STATE:\n",
        "        reward = 0\n",
        "    else:\n",
        "        reward = -1\n",
        "    return next_state, reward\n",
        "\n",
        "# Initialize the Q-table with random values for each state-action pair\n",
        "sarsa_table = np.random.rand(WORLD_HEIGHT, WORLD_WIDTH, len(ACTIONS))\n",
        "\n",
        "sarsa_rewards = []\n",
        "# Run the SARSA algorithm\n",
        "for episode in range(EPISODES):\n",
        "    sarsa_reward = sarsa(sarsa_table)\n",
        "    sarsa_rewards.append(sarsa_reward)\n",
        "\n",
        "# Plot the results\n",
        "plt.plot(sarsa_rewards, label='Sarsa')\n",
        "plt.xlabel('Episodes')\n"
      ]
    },
    {
      "cell_type": "code",
      "source": [],
      "metadata": {
        "id": "35eeLPQzNNGG"
      },
      "id": "35eeLPQzNNGG",
      "execution_count": null,
      "outputs": []
    },
    {
      "cell_type": "code",
      "execution_count": 3,
      "id": "49bd63a7",
      "metadata": {
        "colab": {
          "base_uri": "https://localhost:8080/",
          "height": 265
        },
        "id": "49bd63a7",
        "outputId": "29f4a625-1fd3-412d-d481-b6866ec74783"
      },
      "outputs": [
        {
          "output_type": "display_data",
          "data": {
            "text/plain": [
              "<Figure size 432x288 with 1 Axes>"
            ],
            "image/png": "[encoded data removed]"
          },
          "metadata": {
            "needs_background": "light"
          }
        }
      ],
      "source": [
        "#get the optimal path based on the Q-table\n",
        "def get_optimal_path(Q):\n",
        "    state = START_STATE\n",
        "    #initialise at start state\n",
        "    optimal_path = [state]\n",
        "    while state != GOAL_STATE:\n",
        "        # Get the Q-values for the current state and all possible actions\n",
        "        values = Q[state[0], state[1], :]\n",
        "        # Choose the action with the highest Q-value\n",
        "        action = ACTIONS[np.argmax(values)]\n",
        "        # move to the next state with the highest action\n",
        "        next_state, _ = step(state, action)\n",
        "        optimal_path.append(next_state)\n",
        "        state = next_state\n",
        "    return optimal_path\n",
        "\n",
        "# Define grid coords\n",
        "x_coords = np.arange(WORLD_WIDTH+1)\n",
        "y_coords = np.arange(WORLD_HEIGHT+1)\n",
        "\n",
        "# Create a grid with vertical and horizontal lines\n",
        "plt.hlines(y=y_coords, xmin=0, xmax=WORLD_WIDTH, colors='k', linestyles='solid')\n",
        "plt.vlines(x=x_coords, ymin=0, ymax=WORLD_HEIGHT, colors='k', linestyles='solid')\n",
        "\n",
        "# Add the start and goal states as green and red circles\n",
        "plt.plot(START_STATE[1]+0.5, WORLD_HEIGHT-1-START_STATE[0]+0.5, 'go', markersize=12)\n",
        "plt.plot(GOAL_STATE[1]+0.5, WORLD_HEIGHT-1-GOAL_STATE[0]+0.5, 'ro', markersize=12)\n",
        "\n",
        "# Plot the optimal path as a red line\n",
        "optimal_path = get_optimal_path(sarsa_table)\n",
        "x_vals = [s[1]+0.5 for s in optimal_path]\n",
        "y_vals = [WORLD_HEIGHT-1-s[0]+0.5 for s in optimal_path]\n",
        "plt.plot(x_vals, y_vals, 'r', label='Optimal Path')\n",
        "\n",
        "# flip axis\n",
        "plt.gca().invert_yaxis()\n",
        "\n",
        "# Show the plot\n",
        "plt.legend()\n",
        "plt.show()\n",
        "\n"
      ]
    }
  ],
  "metadata": {
    "kernelspec": {
      "display_name": "Python 3 (ipykernel)",
      "language": "python",
      "name": "python3"
    },
    "language_info": {
      "codemirror_mode": {
        "name": "ipython",
        "version": 3
      },
      "file_extension": ".py",
      "mimetype": "text/x-python",
      "name": "python",
      "nbconvert_exporter": "python",
      "pygments_lexer": "ipython3",
      "version": "3.7.15"
    },
    "colab": {
      "provenance": []
    }
  },
  "nbformat": 4,
  "nbformat_minor": 5
}